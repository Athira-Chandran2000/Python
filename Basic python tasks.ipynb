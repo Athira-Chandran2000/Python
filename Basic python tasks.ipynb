{
 "cells": [
  {
   "cell_type": "markdown",
   "id": "f3a98b2f-0871-40d1-ac21-1309eab0ad1d",
   "metadata": {},
   "source": [
    "### Code to Check if given input String from user is Pangram or not."
   ]
  },
  {
   "cell_type": "code",
   "execution_count": 10,
   "id": "b3b89a25-dd2c-4b99-b6ab-c71631e4e09c",
   "metadata": {},
   "outputs": [
    {
     "name": "stdin",
     "output_type": "stream",
     "text": [
      "Type the string\n",
      " The quick brown fox jumps over the lazy dog\n"
     ]
    },
    {
     "name": "stdout",
     "output_type": "stream",
     "text": [
      "It's a pangram\n"
     ]
    }
   ],
   "source": [
    "def is_a_pangram(input_str):\n",
    "    \n",
    "    alphabets = 'abcdefghijklmnopqrstuvwxyz'    # Define all lowercase alphabets\n",
    "    alphabet_list = set(alphabets) # Converting the string of alphabets to a set\n",
    "    global is_alph_present    # Use a global variable to indicate if all alphabets are present\n",
    "    is_alph_present = 0\n",
    "\n",
    "    for letter in alphabet_list:      # Check if each letter in the alphabet_list is in the input string\n",
    "        if letter in input_str.lower():\n",
    "            is_alph_present = 0\n",
    "        else:\n",
    "            is_alph_present = 1\n",
    "\n",
    "input_str = input(\"Type the string\\n\")  # Take input from the user\n",
    "\n",
    "is_a_pangram(input_str)   # Call the function to check if the string is a pangram\n",
    "\n",
    "if is_alph_present == 0:    # Determine and print if the input string is a pangram\n",
    "    print(\"It's a pangram\")\n",
    "else:\n",
    "    print(\"It's not a pangram\")\n"
   ]
  },
  {
   "cell_type": "markdown",
   "id": "69c321eb-21c8-49ea-8cb4-3096f60b15df",
   "metadata": {},
   "source": [
    "### Code to Reverse vowels in a given input string from the user."
   ]
  },
  {
   "cell_type": "code",
   "execution_count": 7,
   "id": "2c1dfc00-d1f4-4a42-a750-fb740111f185",
   "metadata": {},
   "outputs": [
    {
     "name": "stdin",
     "output_type": "stream",
     "text": [
      "Type the string:  hello\n"
     ]
    },
    {
     "name": "stdout",
     "output_type": "stream",
     "text": [
      "holle\n"
     ]
    }
   ],
   "source": [
    "def reverse_vowels(input_string):\n",
    "    \n",
    "    vowels = ['a', 'e', 'i', 'o', 'u', 'A', 'E', 'I', 'O', 'U']  # Define a list of vowels (both lowercase and uppercase)\n",
    "    str_list = list(input_string)    # Convert the input string to a list\n",
    "    new_string = ''   # Initialize an empty string to hold the result (though it's not used here)\n",
    "    i, j = 0, len(input_string) - 1  # Initialize two pointers for the start and end of the string\n",
    "\n",
    "    \n",
    "    while i <= j:  # Iterate while the start pointer is less than or equal to the end pointer\n",
    "        while i < j and input_string[i] not in vowels:\n",
    "            i += 1\n",
    "        while i < j and input_string[j] not in vowels:\n",
    "            j -= 1\n",
    "        \n",
    "        str_list[i], str_list[j] = str_list[j], str_list[i] # Swap the vowels found at the start and end pointers\n",
    "        \n",
    "        i += 1   # Move both pointers towards the center\n",
    "        j -= 1\n",
    "    \n",
    "    print(new_string.join(str_list))  # Join the list back into a string and print it\n",
    "\n",
    "\n",
    "input_string = input(\"Type the string: \")  #Take input from the user\n",
    "reverse_vowels(input_string)  # Call the function to reverse the vowels in the input string\n",
    "\n"
   ]
  },
  {
   "cell_type": "markdown",
   "id": "fa9d1bf0-7a49-48de-9730-642cb0373f2d",
   "metadata": {},
   "source": [
    "### Code to Find the strength of the given password string based on the conditions\n",
    "#### Four rules were given based on the type and no. of characters in the string.\n",
    "#### Weak – only Rule 1 is satisfied or Rule 1 is not satisfied\n",
    "#### Medium – Two rules are satisfied\n",
    "#### Good – Three rules satisfied\n",
    "#### Strong – All Four rules satisfied"
   ]
  },
  {
   "cell_type": "code",
   "execution_count": 11,
   "id": "2866c309-9a85-4d51-be1f-2873aab23589",
   "metadata": {},
   "outputs": [
    {
     "name": "stdin",
     "output_type": "stream",
     "text": [
      "Enter the password:  PwdTry@123\n"
     ]
    },
    {
     "name": "stdout",
     "output_type": "stream",
     "text": [
      "Strong\n"
     ]
    }
   ],
   "source": [
    "def password_strength(password):\n",
    "    \n",
    "    length_rule = len(password) >= 8 # Check if the password meets the minimum length requirement\n",
    "    \n",
    "    # Define character sets for different types of characters\n",
    "    digits = \"0123456789\"\n",
    "    upper_case = 'ABCDEFGHIJKLMNOPQRSTUVWXYZ'\n",
    "    lower_case = 'abcdefghijklmnopqrstuvwxyz'\n",
    "    special_characters = '!@#$%^&*()_-+=/{}|:\"<>?[];,./'\n",
    "\n",
    "    \n",
    "    digit_rule = any(char in digits for char in password)  # Check if the password contains at least one digit\n",
    "    \n",
    "    \n",
    "    uppercase_and_lower_case_rule = any(char in upper_case for char in password) and any(char in lower_case for char in password) # Check if the password contains both uppercase and lowercase letters    \n",
    "    character_rule = any(char in special_characters for char in password)  # Check if the password contains at least one special character\n",
    "\n",
    "    # Determine the strength of the password based on the rules\n",
    "    if length_rule and digit_rule and uppercase_and_lower_case_rule and character_rule:\n",
    "        print(\"Strong\")\n",
    "    elif length_rule and digit_rule and uppercase_and_lower_case_rule:\n",
    "        print(\"Good\")\n",
    "    elif length_rule and digit_rule and character_rule:\n",
    "        print(\"Good\")\n",
    "    elif length_rule and uppercase_and_lower_case_rule and character_rule:\n",
    "        print(\"Good\")\n",
    "    elif length_rule and (uppercase_and_lower_case_rule or digit_rule or character_rule):\n",
    "        print(\"Medium\")\n",
    "    else:\n",
    "        print(\"Weak\")\n",
    "\n",
    "\n",
    "password = input(\"Enter the password: \") #Take input from the user\n",
    "password_strength(password) # Evaluate the strength of the provided password\n"
   ]
  },
  {
   "cell_type": "markdown",
   "id": "a359f1c5-9415-4394-b2e0-98ef05d7f8bb",
   "metadata": {},
   "source": [
    "### Code to print the following pattern:\n",
    "#### 1\n",
    "#### 3 2\n",
    "#### 6 5 4\n",
    "#### 10 9 8 7\n",
    "#### 10 9 8 7\n",
    "#### 6 5 4\n",
    "#### 3 2\n",
    "#### 1\n"
   ]
  },
  {
   "cell_type": "code",
   "execution_count": 3,
   "id": "bb37a81c-a482-4920-8ac6-870b32891bc8",
   "metadata": {},
   "outputs": [
    {
     "name": "stdout",
     "output_type": "stream",
     "text": [
      "     1\n",
      "    3 2\n",
      "   6 5 4\n",
      "  10 9 8 7\n",
      "  10 9 8 7\n",
      "   6 5 4\n",
      "    3 2\n",
      "     1\n"
     ]
    }
   ],
   "source": [
    "\n",
    "rows = 4\n",
    "increment = 1\n",
    "\n",
    "\n",
    "for i in range(rows): # Print the upper half of the pattern\n",
    "    \n",
    "    print(\" \" * (rows - i), end=\" \") # Print leading spaces for alignment\n",
    "    \n",
    "    row_pattern = []\n",
    "\n",
    "    \n",
    "    for j in range(i + 1): # Generate numbers for the current row\n",
    "        row_pattern.append(increment)\n",
    "        increment += 1\n",
    "\n",
    "    row_pattern.reverse() # Reverse the list \n",
    "    \n",
    "    print(*row_pattern, sep=' ') # Print the numbers in the row\n",
    "\n",
    "decrement = 10\n",
    "\n",
    "\n",
    "for i in reversed(range(rows)): # Print the lower half of the pattern\n",
    "    \n",
    "    print(\" \" * (rows - i), end=\" \") # Print leading spaces for alignment\n",
    "    \n",
    "    row_pattern = []\n",
    "\n",
    "    \n",
    "    for j in range(i + 1): # Generate numbers for the current row in descending order\n",
    "        row_pattern.append(decrement)\n",
    "        decrement -= 1\n",
    "\n",
    "    \n",
    "    print(*row_pattern, sep=' ') # Print the numbers in the row\n"
   ]
  },
  {
   "cell_type": "markdown",
   "id": "c9171c2e-8673-4052-9601-a75c546572ea",
   "metadata": {},
   "source": [
    "### Code to print all permutations of a given string."
   ]
  },
  {
   "cell_type": "code",
   "execution_count": 2,
   "id": "c46210c0-1971-4b71-ad22-062777747655",
   "metadata": {},
   "outputs": [
    {
     "name": "stdin",
     "output_type": "stream",
     "text": [
      "Enter the string:  ABC\n"
     ]
    },
    {
     "name": "stdout",
     "output_type": "stream",
     "text": [
      "A\n",
      "B\n",
      "C\n",
      "AB\n",
      "BA\n",
      "AC\n",
      "CA\n",
      "BC\n",
      "CB\n",
      "ABC\n",
      "ACB\n",
      "BAC\n",
      "BCA\n",
      "CAB\n",
      "CBA\n"
     ]
    }
   ],
   "source": [
    "\n",
    "\n",
    "from itertools import permutations, combinations\n",
    "\n",
    "def permutations_of_a_string(string):\n",
    "    n = len(string)\n",
    "    final = ''\n",
    "\n",
    "   \n",
    "    for i in range(1, n + 1):  # Iterate over lengths from 1 to the length of the string\n",
    "        \n",
    "        comb = combinations(string, i) # Generate combinations of the string of length i\n",
    "        for c in comb:\n",
    "            perm = permutations(c)  # Generate permutations of each combination\n",
    "            for p in perm:    \n",
    "                print(final.join(p)) # Print each permutation joined as a string\n",
    "\n",
    "# Take user input for the string\n",
    "input_string = input(\"Enter the string: \") #Take input from user\n",
    "permutations_of_a_string(input_string) # Calling the function\n",
    "\n"
   ]
  },
  {
   "cell_type": "markdown",
   "id": "18244e6e-2b62-4c62-a565-824f31aad9a5",
   "metadata": {},
   "source": [
    "### 6)Code a program to convert a number into a mono-digit number.\n",
    "#### Conditions:\n",
    "#### a) You are allowed to add and subtract the consecutive digits (starting from left).\n",
    "#### b) You are allowed to do only one operation on a digit.\n",
    "#### c) You cannot perform any operation on a resultant digit of the previous operation.\n",
    "#### d) Your code should also find if a given number cannot be converted to a mono digit number"
   ]
  },
  {
   "cell_type": "code",
   "execution_count": 12,
   "id": "f0270125-01dd-4178-90ff-5ccadcf4e03a",
   "metadata": {},
   "outputs": [
    {
     "name": "stdin",
     "output_type": "stream",
     "text": [
      "Enter a number:  72581\n"
     ]
    },
    {
     "name": "stdout",
     "output_type": "stream",
     "text": [
      "Mono-digit number: 777\n"
     ]
    }
   ],
   "source": [
    "\n",
    "\n",
    "def find_mono_digit(digits_list, result, position):\n",
    "    sequence = []\n",
    "    \n",
    "    while position < len(digits_list): # Loop through the digits starting from the given position\n",
    "        if digits_list[position] == result:  # If the current digit matches the result, add it to the sequence\n",
    "            sequence.append(result)\n",
    "            position += 1\n",
    "        elif position < len(digits_list) - 1:\n",
    "            \n",
    "            sum_of_pair = digits_list[position] + digits_list[position + 1] # Calculate the sum of the current pair of digits\n",
    "            diff_of_pair = digits_list[position] - digits_list[position + 1] # Calculate the difference of the current pair of digits\n",
    "            \n",
    "            \n",
    "            if sum_of_pair == result: # If the sum of the pair matches the result, add it to the sequence\n",
    "                sequence.append(sum_of_pair)\n",
    "                position += 2\n",
    "            elif diff_of_pair == result: # If the difference of the pair matches the result, add it to the sequence\n",
    "                sequence.append(diff_of_pair)\n",
    "                position += 2\n",
    "            else:\n",
    "                return []  # Return an empty list if neither condition is met\n",
    "        else:\n",
    "            return []  # Return an empty list if no more pairs are available\n",
    "    return sequence  # Return the sequence found\n",
    "\n",
    "\n",
    "number_input = input(\"Enter a number: \") #Take input from user\n",
    "digits_list = [int(digit) for digit in number_input]\n",
    "\n",
    "# Define possible goals to check: the first digit, the sum of the first two digits, and the difference between the first two digits\n",
    "possible_goals = [digits_list[0], digits_list[0] + digits_list[1], digits_list[0] - digits_list[1]]\n",
    "\n",
    "\n",
    "for result in possible_goals: # Check each possible goal to find a mono-digit sequence\n",
    "    if 0 <= result <= 10:\n",
    "        mono_digit_sequence = find_mono_digit(digits_list, result, 1 if result == digits_list[0] else 2) # Determine the starting position based on the result\n",
    "        if mono_digit_sequence:\n",
    "            print(\"Mono-digit number:\", ''.join(map(str, [result] + mono_digit_sequence))) # Print the mono-digit number if found\n",
    "            break\n",
    "else:\n",
    "    print(\"Cannot create a mono-digit number\")\n"
   ]
  },
  {
   "cell_type": "markdown",
   "id": "12f78134-4b31-4569-ab40-bf1066933ff1",
   "metadata": {},
   "source": [
    "### Code that takes two strings, check whether any substring present in first string that follows the pattern of second string. Implement regular expressions for * and backslash without built in functions"
   ]
  },
  {
   "cell_type": "code",
   "execution_count": 13,
   "id": "47c18fc2-3e0e-450f-920d-70fbffa482fe",
   "metadata": {},
   "outputs": [
    {
     "name": "stdin",
     "output_type": "stream",
     "text": [
      "Enter the first string:  abcd\n",
      "Enter the second string:  a*cd\n"
     ]
    },
    {
     "name": "stdout",
     "output_type": "stream",
     "text": [
      "Yes\n"
     ]
    }
   ],
   "source": [
    "\n",
    "\n",
    "def match_substring(string1: str, string2: str) -> bool:\n",
    "    def matches_from_position(start: int) -> bool:\n",
    "        text_index = start\n",
    "        pattern_index = 0\n",
    "\n",
    "        while pattern_index < len(string2): \n",
    "            if pattern_index < len(string2) - 1 and string2[pattern_index] == '\\\\' and string2[pattern_index + 1] == '*': # Check for escaped '*' in string2 that should match a literal '*'\n",
    "                if text_index < len(string1) and string1[text_index] == '*':\n",
    "                    text_index += 1\n",
    "                    pattern_index += 2\n",
    "                else:\n",
    "                    return False\n",
    "            elif pattern_index < len(string2) - 1 and string2[pattern_index + 1] == '*': # Check for '*' in string2 that matches zero or more of the previous character\n",
    "                while text_index < len(string1) and (string1[text_index] == string2[pattern_index] or string2[pattern_index] == '*'):\n",
    "                    text_index += 1\n",
    "                pattern_index += 2\n",
    "            elif text_index < len(string1) and string1[text_index] == string2[pattern_index]: # Check if the current characters in string1 and string2 are the same\n",
    "                text_index += 1\n",
    "                pattern_index += 1\n",
    "            else:\n",
    "                return False\n",
    "\n",
    "        return pattern_index == len(string2) and text_index <= len(string1)\n",
    "\n",
    "    for i in range(len(string1) - len(string2) + 1): #matching string2 at every position in string1\n",
    "        if matches_from_position(i):\n",
    "            return True\n",
    "\n",
    "    return False\n",
    "\n",
    "\n",
    "string1 = input(\"Enter the first string: \") #Take input from the user\n",
    "string2 = input(\"Enter the second string: \") #Take input from the user\n",
    "\n",
    "\n",
    "if match_substring(string1, string2): # Check if string2 matches any part of string1\n",
    "    print(\"No\")\n",
    "else:\n",
    "    print(\"Yes\")\n"
   ]
  },
  {
   "cell_type": "markdown",
   "id": "bacb9c85-05cc-4735-951b-c46b9a56c75c",
   "metadata": {},
   "source": [
    "### Code to find the union intersection of two list and also find except (remove even elements from list1 and odd elements from list2)\n"
   ]
  },
  {
   "cell_type": "code",
   "execution_count": 14,
   "id": "34b1ef5e-be74-4790-8db8-8ddece61d151",
   "metadata": {},
   "outputs": [
    {
     "name": "stdin",
     "output_type": "stream",
     "text": [
      "Enter the elements of the first list separated by commas:  1,3,4,5,6,8,9\n",
      "Enter the elements of the second list separated by commas:  1,5,8,9,2\n"
     ]
    },
    {
     "name": "stdout",
     "output_type": "stream",
     "text": [
      "Union: [1, 2, 3, 4, 5, 6, 8, 9]\n",
      "Intersection: [8, 1, 5, 9]\n",
      "Except: [1, 3, 5, 9, 8, 2]\n"
     ]
    }
   ],
   "source": [
    "\n",
    "list1 = input(\"Enter the elements of the first list separated by commas: \")\n",
    "list2 = input(\"Enter the elements of the second list separated by commas: \")\n",
    "\n",
    "\n",
    "list1 = list(map(int, list1.split(','))) # Convert input strings to lists of integers\n",
    "list2 = list(map(int, list2.split(','))) # Convert input strings to lists of integers\n",
    "\n",
    "\n",
    "union = list(set(list1) | set(list2)) # Find union\n",
    "intersection = list(set(list1) & set(list2)) # Find intersection\n",
    "\n",
    "elements_excluded_from_list1 = [item for item in list1 if item % 2 != 0]  #remove even elements from list1\n",
    "elements_excluded_from_list2 = [item for item in list2 if item % 2 == 0]  #remove odd elements from list2\n",
    "except_elements = elements_excluded_from_list1 + elements_excluded_from_list2\n",
    "\n",
    "print(\"Union:\", union)\n",
    "print(\"Intersection:\", intersection)\n",
    "print(\"Except:\", except_elements)"
   ]
  },
  {
   "cell_type": "markdown",
   "id": "83e4ff3c-f00e-4a17-908e-f994241f299c",
   "metadata": {},
   "source": [
    "### Code that is adding a digit to all the digits of a number.\n"
   ]
  },
  {
   "cell_type": "code",
   "execution_count": 15,
   "id": "47eca0f9-8aae-46e7-b907-7f0cf3aa6cab",
   "metadata": {},
   "outputs": [
    {
     "name": "stdin",
     "output_type": "stream",
     "text": [
      "Enter the number:  12345\n",
      "Enter the digit to be added:  5\n"
     ]
    },
    {
     "name": "stdout",
     "output_type": "stream",
     "text": [
      "678910\n"
     ]
    }
   ],
   "source": [
    "\n",
    "def digit_addition(num, digit):\n",
    "    \n",
    "    num_str = str(num)    # Convert the number to a string to iterate over each digit\n",
    "    \n",
    "    new_num = ''  # Initialize an empty string to store the new number\n",
    "\n",
    "    \n",
    "    for char in num_str:   # Iterate through each character in the string representation of the number\n",
    "        new_digit = int(char) + digit  # Convert the character to an integer, add the specified digit, and convert back to a string\n",
    "        new_num += str(new_digit)   # Append the new digit to the new_num string\n",
    "    print(new_num)  # Print the resulting new number\n",
    "\n",
    "num = int(input(\"Enter the number: \"))  # Take input from the user\n",
    "digit = int(input(\"Enter the digit to be added: \")) # Take input from the user\n",
    "digit_addition(num, digit)  # Calling the digit_addition function\n",
    "\n"
   ]
  },
  {
   "cell_type": "markdown",
   "id": "7d3b41c3-584c-46bc-8950-363af96ea34e",
   "metadata": {},
   "source": [
    "### Code that take two strings below of equal length and print all the adjacent pairs which are not equal."
   ]
  },
  {
   "cell_type": "code",
   "execution_count": 17,
   "id": "ae051c76-7aec-496a-bf83-bc1fa878b1ce",
   "metadata": {},
   "outputs": [
    {
     "name": "stdin",
     "output_type": "stream",
     "text": [
      "Enter the first string:  asdfghij\n",
      "Enter the second string:  adsfgijh\n"
     ]
    },
    {
     "name": "stdout",
     "output_type": "stream",
     "text": [
      "as - ad\n",
      "sd - ds\n",
      "df - sf\n",
      "gh - gi\n",
      "hi - ij\n",
      "ij - jh\n"
     ]
    }
   ],
   "source": [
    "\n",
    "\n",
    "def find_unequal_adjacent_pairs(string1, string2):\n",
    "   \n",
    "    if len(string1) != len(string2):  # Check if both strings have the same length\n",
    "        print(\"Strings are not of equal length\")\n",
    "        return\n",
    "\n",
    "    current_index = 0\n",
    "    while current_index < len(string1) - 1:\n",
    "        \n",
    "        pair_from_string1 = string1[current_index:current_index + 2] # Get pairs of adjacent characters from string 1\n",
    "        pair_from_string2 = string2[current_index:current_index + 2] # Get pairs of adjacent characters from string 2\n",
    "\n",
    "        \n",
    "        if pair_from_string1 != pair_from_string2: #  Print the pairs, if the pairs are different\n",
    "            print(f\"{pair_from_string1} - {pair_from_string2}\")\n",
    "\n",
    "        current_index += 1\n",
    "\n",
    "string1 = input(\"Enter the first string: \")  # Take input from the user\n",
    "string2 = input(\"Enter the second string: \")  # Take input from the user\n",
    "find_unequal_adjacent_pairs(string1, string2) # Find and print unequal adjacent pairs"
   ]
  },
  {
   "cell_type": "markdown",
   "id": "bf644a8b-6fd4-4c2d-93fd-c364cfc18b5f",
   "metadata": {},
   "source": [
    "### Given a sentence of string, in that remove the palindrome words and print the remaining."
   ]
  },
  {
   "cell_type": "code",
   "execution_count": 18,
   "id": "a645f597-4e2d-4f8b-a1a5-5158c3772970",
   "metadata": {},
   "outputs": [
    {
     "name": "stdin",
     "output_type": "stream",
     "text": [
      "Enter a sentence:  Sai speaks malayalam\n"
     ]
    },
    {
     "name": "stdout",
     "output_type": "stream",
     "text": [
      "Sai speaks\n"
     ]
    }
   ],
   "source": [
    "\n",
    "\n",
    "def check_for_palindrome(word): # Check if the word reads the same forwards and backwards\n",
    "    \n",
    "    return word == word[::-1]\n",
    "\n",
    "def remove_palindromes(sentence):\n",
    "    words = sentence.split() # Split the sentence into words \n",
    "    non_palindromes = [word for word in words if not check_for_palindrome(word)] # Filter out palindrome words\n",
    "    return ' '.join(non_palindromes)  # Join the remaining words back into a sentence\n",
    "\n",
    "sentence = input(\"Enter a sentence: \") # Take input from the user\n",
    "\n",
    "\n",
    "result = remove_palindromes(sentence) # Remove palindromes and print the result\n",
    "print(result)\n"
   ]
  },
  {
   "cell_type": "markdown",
   "id": "aa6548b4-b19b-4bb3-9775-9c84beab8b7f",
   "metadata": {},
   "source": [
    "### Code that finds the output of add, sub, mul, div of two integers using + operator."
   ]
  },
  {
   "cell_type": "code",
   "execution_count": 19,
   "id": "0a2852e3-f7b7-417e-acb5-0bb910102949",
   "metadata": {},
   "outputs": [
    {
     "name": "stdin",
     "output_type": "stream",
     "text": [
      "Enter the first integer:  -4\n",
      "Enter the second integer:  -2\n"
     ]
    },
    {
     "name": "stdout",
     "output_type": "stream",
     "text": [
      "addition -4+-2 = -6, subtraction -4+(--2) = -2, multiplication = 8, division = 2\n"
     ]
    }
   ],
   "source": [
    "\n",
    "\n",
    "num1 = int(input(\"Enter the first integer: \"))\n",
    "num2 = int(input(\"Enter the second integer: \"))\n",
    "\n",
    "\n",
    "addition = num1 + num2    \n",
    "subtraction = num1 - num2\n",
    "multiplication = num1 * num2\n",
    "division = num1 // num2\n",
    "\n",
    "print(f\"addition {num1}+{num2} = {addition}, \"\n",
    "      f\"subtraction {num1}+(-{num2}) = {subtraction}, \"\n",
    "      f\"multiplication = {multiplication}, \"\n",
    "      f\"division = {division}\")"
   ]
  },
  {
   "cell_type": "code",
   "execution_count": null,
   "id": "b09a6a45-114c-4039-9bbf-37e72d4b7b4a",
   "metadata": {},
   "outputs": [],
   "source": []
  }
 ],
 "metadata": {
  "kernelspec": {
   "display_name": "Python 3 (ipykernel)",
   "language": "python",
   "name": "python3"
  },
  "language_info": {
   "codemirror_mode": {
    "name": "ipython",
    "version": 3
   },
   "file_extension": ".py",
   "mimetype": "text/x-python",
   "name": "python",
   "nbconvert_exporter": "python",
   "pygments_lexer": "ipython3",
   "version": "3.12.7"
  }
 },
 "nbformat": 4,
 "nbformat_minor": 5
}
