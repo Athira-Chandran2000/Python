{
 "cells": [
  {
   "cell_type": "markdown",
   "id": "20b0869f-d9f1-44a8-a119-1182fbf9397d",
   "metadata": {},
   "source": [
    "### Iterative approach"
   ]
  },
  {
   "cell_type": "code",
   "execution_count": 10,
   "id": "4bba1f66-bbe9-4611-a2c7-59a03d4bfcfc",
   "metadata": {},
   "outputs": [
    {
     "name": "stdin",
     "output_type": "stream",
     "text": [
      "Enter the number of elements to be printed in the list 5\n",
      "Enter the element 1\n",
      "Enter the element 2\n",
      "Enter the element 3\n",
      "Enter the element 4\n",
      "Enter the element 5\n",
      "Enter the element to be searched 4\n"
     ]
    },
    {
     "data": {
      "text/plain": [
       "'4 found at index position 3'"
      ]
     },
     "execution_count": 10,
     "metadata": {},
     "output_type": "execute_result"
    }
   ],
   "source": [
    "def listcreation(num_of_elements):\n",
    "    list = []\n",
    "    for i in range(num_of_elements):\n",
    "        element = input(\"Enter the element\")\n",
    "        list.append(element)\n",
    "    return list\n",
    "\n",
    "def search(list,target):\n",
    "    for i in range(len(list)):\n",
    "        if list[i] == target:\n",
    "            return f'{target} found at index position {i}'\n",
    "        i += 1\n",
    "    return \"Element not found\"\n",
    "\n",
    "n = int(input(\"Enter the number of elements to be printed in the list\"))\n",
    "list = listcreation(n)\n",
    "target = input(\"Enter the element to be searched\")\n",
    "search(list,target)"
   ]
  },
  {
   "cell_type": "markdown",
   "id": "0721542a-c670-4f59-9d7a-ac82f48a08f5",
   "metadata": {},
   "source": [
    "### Recursive approach"
   ]
  },
  {
   "cell_type": "code",
   "execution_count": 14,
   "id": "bd7a9c28-309b-47ff-b8db-9069efc7c0b4",
   "metadata": {},
   "outputs": [
    {
     "name": "stdin",
     "output_type": "stream",
     "text": [
      "Enter the number of elements to be printed in list 5\n",
      "Enter the element 4\n",
      "Enter the element 7\n",
      "Enter the element 9\n",
      "Enter the element 2\n",
      "Enter the element 4\n",
      "Enter the element to be searched 9\n"
     ]
    },
    {
     "data": {
      "text/plain": [
       "'9 found at index position 2'"
      ]
     },
     "execution_count": 14,
     "metadata": {},
     "output_type": "execute_result"
    }
   ],
   "source": [
    "def listcreation(num_of_elements):\n",
    "    list = []\n",
    "    for i in range(num_of_elements):\n",
    "        element = input(\"Enter the element\")\n",
    "        list.append(element)\n",
    "    return list\n",
    "\n",
    "def search(list,target,index=0):\n",
    "    if index >= len(list):\n",
    "        return \"Index out of range\"\n",
    "    if list[index] == target:\n",
    "        return f'{target} found at index position {index}'\n",
    "    index += 1\n",
    "    return search(list,target,index+1)\n",
    "\n",
    "n = int(input(\"Enter the number of elements to be printed in list\"))\n",
    "list = listcreation(n)\n",
    "target = input(\"Enter the element to be searched\")\n",
    "search(list,target)\n",
    "    "
   ]
  },
  {
   "cell_type": "code",
   "execution_count": null,
   "id": "1ed38032-e693-4077-82aa-896554027169",
   "metadata": {},
   "outputs": [],
   "source": []
  }
 ],
 "metadata": {
  "kernelspec": {
   "display_name": "Python 3 (ipykernel)",
   "language": "python",
   "name": "python3"
  },
  "language_info": {
   "codemirror_mode": {
    "name": "ipython",
    "version": 3
   },
   "file_extension": ".py",
   "mimetype": "text/x-python",
   "name": "python",
   "nbconvert_exporter": "python",
   "pygments_lexer": "ipython3",
   "version": "3.12.7"
  }
 },
 "nbformat": 4,
 "nbformat_minor": 5
}
