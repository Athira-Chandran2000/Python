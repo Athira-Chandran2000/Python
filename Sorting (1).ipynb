{
 "cells": [
  {
   "cell_type": "markdown",
   "id": "5a4b13a7-471f-4e68-beb3-221e4da58dba",
   "metadata": {},
   "source": [
    "#### Bubble sort"
   ]
  },
  {
   "cell_type": "code",
   "execution_count": 1,
   "id": "06a28f23-b9e9-4621-8fc8-d3c4a98a4b48",
   "metadata": {},
   "outputs": [
    {
     "data": {
      "text/plain": [
       "[10, 20, 31, 45, 51, 68]"
      ]
     },
     "execution_count": 1,
     "metadata": {},
     "output_type": "execute_result"
    }
   ],
   "source": [
    "def bubble_sort(arr):\n",
    "    n = len(arr)\n",
    "    for i in range(n):\n",
    "        for j in range(0,n-i-1):\n",
    "            if arr[j] > arr[j+1]:\n",
    "                arr[j],arr[j+1] = arr[j+1],arr[j]\n",
    "    return arr\n",
    "\n",
    "arr = [20,51,31,45,68,10]\n",
    "bubble_sort(arr)"
   ]
  },
  {
   "cell_type": "markdown",
   "id": "af725a05-c4d3-4795-93d2-084bef529cec",
   "metadata": {},
   "source": [
    "### Selection sort"
   ]
  },
  {
   "cell_type": "code",
   "execution_count": 2,
   "id": "fb7c189e-c0d8-45c4-bcc7-30a3f6ae5b05",
   "metadata": {},
   "outputs": [
    {
     "data": {
      "text/plain": [
       "[10, 20, 31, 45, 51, 68]"
      ]
     },
     "execution_count": 2,
     "metadata": {},
     "output_type": "execute_result"
    }
   ],
   "source": [
    "def selection_sort(arr):\n",
    "    n = len(arr)\n",
    "    for i in range(n):\n",
    "        min_index = i\n",
    "        for j in range(i+1,n):\n",
    "            if arr[j]<arr[min_index]:\n",
    "                min_index = j\n",
    "        arr[i],arr[min_index] = arr[min_index],arr[i]\n",
    "    return arr\n",
    "arr = [20,51,31,45,68,10]\n",
    "selection_sort(arr)"
   ]
  },
  {
   "cell_type": "markdown",
   "id": "a0e0a7fd-aa0b-4b76-8e73-e9443fa06d9d",
   "metadata": {},
   "source": [
    "### Insertion sort"
   ]
  },
  {
   "cell_type": "code",
   "execution_count": 4,
   "id": "bcb502d7-bd4c-4e7d-b4ec-68525bfd7ab7",
   "metadata": {},
   "outputs": [
    {
     "data": {
      "text/plain": [
       "[10, 20, 31, 45, 51, 68]"
      ]
     },
     "execution_count": 4,
     "metadata": {},
     "output_type": "execute_result"
    }
   ],
   "source": [
    "def insertion_sort(arr):\n",
    "    n = len(arr)\n",
    "    for i in range(1,n):\n",
    "        key = arr[i]\n",
    "        j = i - 1\n",
    "        while j >= 0 and arr[j] > key:\n",
    "            arr[j+1] = arr[j]\n",
    "            j-=1\n",
    "        arr[j+1] = key\n",
    "    return arr\n",
    "arr = [20,51,31,45,68,10]\n",
    "insertion_sort(arr)"
   ]
  },
  {
   "cell_type": "markdown",
   "id": "72022541-13c6-4907-8be2-336de778ec1e",
   "metadata": {},
   "source": [
    "### Merge sort"
   ]
  },
  {
   "cell_type": "code",
   "execution_count": 7,
   "id": "5966f373-8539-41bb-a0cd-cded6303a98b",
   "metadata": {},
   "outputs": [
    {
     "data": {
      "text/plain": [
       "[10, 20, 31, 45, 51, 68]"
      ]
     },
     "execution_count": 7,
     "metadata": {},
     "output_type": "execute_result"
    }
   ],
   "source": [
    "def merge_sort(arr):\n",
    "    if len(arr)>1:\n",
    "        mid = len(arr)//2\n",
    "        left = arr[:mid]\n",
    "        right = arr[mid:]\n",
    "       \n",
    "        merge_sort(left)\n",
    "        merge_sort(right)\n",
    "\n",
    "        i = j = k = 0\n",
    "\n",
    "        while i<len(left) and j< len(right):\n",
    "            if left[i] < right[j]:\n",
    "                arr[k] = left[i]\n",
    "                i+=1\n",
    "            else:\n",
    "                arr[k] = right[j]\n",
    "                j+=1\n",
    "            k+=1\n",
    "\n",
    "        while i<len(left):\n",
    "            arr[k] = left[i]\n",
    "            i+=1\n",
    "            k+=1\n",
    "\n",
    "        while j<len(right):\n",
    "            arr[k] = right[j]\n",
    "            j+=1\n",
    "            k+=1\n",
    "    return arr\n",
    "\n",
    "arr = [20,51,31,45,68,10]\n",
    "merge_sort(arr)\n",
    "            "
   ]
  },
  {
   "cell_type": "markdown",
   "id": "b94fb9c9-dc06-4176-8795-7ba9cc6a54a4",
   "metadata": {},
   "source": [
    "### Quick sort"
   ]
  },
  {
   "cell_type": "code",
   "execution_count": 9,
   "id": "459e1f0c-f13c-4da5-8749-0ca650f6ee64",
   "metadata": {},
   "outputs": [
    {
     "data": {
      "text/plain": [
       "[10, 20, 31, 45, 51, 68]"
      ]
     },
     "execution_count": 9,
     "metadata": {},
     "output_type": "execute_result"
    }
   ],
   "source": [
    "#If middle element is chosen as pivot\n",
    "def quick_sort(arr):\n",
    "    if len(arr)<=1:\n",
    "        return arr\n",
    "\n",
    "    pivot = arr[len(arr)//2]\n",
    "    left = [x for x in arr if x<pivot]\n",
    "    middle = [x for x in arr if x == pivot]\n",
    "    right = [x for x in arr if x >pivot]\n",
    "\n",
    "    return quick_sort(left)+middle+quick_sort(right)\n",
    "\n",
    "arr = [20,51,31,45,68,10]\n",
    "quick_sort(arr)\n",
    "\n"
   ]
  },
  {
   "cell_type": "code",
   "execution_count": 10,
   "id": "db877c48-2daa-4532-b189-6aac31f20d49",
   "metadata": {},
   "outputs": [
    {
     "data": {
      "text/plain": [
       "[10, 20, 31, 45, 51, 68]"
      ]
     },
     "execution_count": 10,
     "metadata": {},
     "output_type": "execute_result"
    }
   ],
   "source": [
    "#If first element is chosen as pivot\n",
    "def quick_sort1(arr):\n",
    "    if len(arr)<=1:\n",
    "        return arr\n",
    "    pivot = arr[0]\n",
    "    left = [x for x in arr[1:] if x<pivot]\n",
    "    middle = [pivot]\n",
    "    right = [x for x in arr[1:] if x>pivot]\n",
    "    return quick_sort1(left)+middle+quick_sort1(right)\n",
    "arr = [20,51,31,45,68,10]\n",
    "quick_sort1(arr)"
   ]
  },
  {
   "cell_type": "code",
   "execution_count": null,
   "id": "12dad05d-611f-426f-beeb-286869794187",
   "metadata": {},
   "outputs": [],
   "source": []
  }
 ],
 "metadata": {
  "kernelspec": {
   "display_name": "Python 3 (ipykernel)",
   "language": "python",
   "name": "python3"
  },
  "language_info": {
   "codemirror_mode": {
    "name": "ipython",
    "version": 3
   },
   "file_extension": ".py",
   "mimetype": "text/x-python",
   "name": "python",
   "nbconvert_exporter": "python",
   "pygments_lexer": "ipython3",
   "version": "3.12.7"
  }
 },
 "nbformat": 4,
 "nbformat_minor": 5
}
