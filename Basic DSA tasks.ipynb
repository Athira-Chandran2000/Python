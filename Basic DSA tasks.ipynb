{
 "cells": [
  {
   "cell_type": "markdown",
   "id": "d8d85e30-0d8b-475b-ac4a-26e1873860fb",
   "metadata": {},
   "source": [
    "### Stack"
   ]
  },
  {
   "cell_type": "markdown",
   "id": "47f6e0cf-86a2-47cc-ba75-365a72c4c092",
   "metadata": {},
   "source": [
    "#### 1. Evaluate Postfix Expression\n",
    "Write a function to evaluate a postfix (Reverse Polish Notation) expression. For example, given the expression 2 3 * 5 +, the function should return 11."
   ]
  },
  {
   "cell_type": "code",
   "execution_count": 5,
   "id": "35e1e622-c079-41a8-9ee0-09d04e6a3f5f",
   "metadata": {},
   "outputs": [],
   "source": [
    "class Stack():\n",
    "    def __init__(self):\n",
    "        self.stack = []\n",
    "    \n",
    "    def is_empty(self):\n",
    "        return len(self.stack) == 0\n",
    "    \n",
    "    def push(self,n):\n",
    "        self.stack.append(n)\n",
    "    \n",
    "    def pop(self):\n",
    "        if self.is_empty():\n",
    "            print(\"Empty\")\n",
    "        else:\n",
    "            return self.stack.pop()\n",
    "            \n",
    "    def display(self):\n",
    "        for i in self.stack:\n",
    "            print(i)"
   ]
  },
  {
   "cell_type": "code",
   "execution_count": 6,
   "id": "a1554378-d372-4b9f-b38b-8f4b13c16d86",
   "metadata": {},
   "outputs": [
    {
     "name": "stdin",
     "output_type": "stream",
     "text": [
      "Enter the expression to be evaluated 123+45**6+*\n"
     ]
    },
    {
     "name": "stdout",
     "output_type": "stream",
     "text": [
      "106\n"
     ]
    }
   ],
   "source": [
    "operators = '+-*/^'\n",
    "\n",
    "def evaluate_postfix(expression):\n",
    "    stack = Stack()\n",
    "\n",
    "    for i in exp:\n",
    "        if i not in operators:\n",
    "            stack.push(i)\n",
    "        elif i in operators:\n",
    "            a = int(stack.pop())\n",
    "            b = int(stack.pop())\n",
    "            if i == '+':\n",
    "                stack.push(b + a)\n",
    "            elif i == '-':\n",
    "                stack.push(b - a)\n",
    "            elif i == '*':\n",
    "                stack.push(b*a)\n",
    "            elif i == '/':\n",
    "                stack.push(b/a)\n",
    "            elif i == '^':\n",
    "                stack.push(pow(b,a))\n",
    "    return stack.pop()\n",
    "\n",
    "exp = input(\"Enter the expression to be evaluated\")\n",
    "result = evaluate_postfix(exp)\n",
    "print(result)\n",
    "            "
   ]
  },
  {
   "cell_type": "markdown",
   "id": "2df5bdee-30ec-4f9c-b7f6-0a58fb555215",
   "metadata": {},
   "source": [
    "#### 2. Balanced Parentheses\r\n",
    "Implement a function to check if a string of parentheses is balanced. For example, \"(a + b) * (c + d)\" is balanced, but \"(a + b) * (c + d\" is not."
   ]
  },
  {
   "cell_type": "code",
   "execution_count": 8,
   "id": "545d7de2-1b94-4848-a52a-ea754a34700a",
   "metadata": {},
   "outputs": [],
   "source": [
    "class Stack():\n",
    "    def __init__(self):\n",
    "        self.stack = []\n",
    "    \n",
    "    def is_empty(self):\n",
    "        return len(self.stack) == 0\n",
    "    \n",
    "    def push(self,n):\n",
    "        self.stack.append(n)\n",
    "    \n",
    "    def pop(self):\n",
    "        if self.is_empty():\n",
    "            print(\"Empty\")\n",
    "        else:\n",
    "            return self.stack.pop()\n",
    "            \n",
    "    def display(self):\n",
    "        for i in self.stack:\n",
    "            print(i)"
   ]
  },
  {
   "cell_type": "code",
   "execution_count": 10,
   "id": "35a54469-329b-4433-bc73-e48d48f6f91a",
   "metadata": {},
   "outputs": [
    {
     "name": "stdin",
     "output_type": "stream",
     "text": [
      "Enter the expression to be evaluated (a+b)*(c+d)\n"
     ]
    },
    {
     "name": "stdout",
     "output_type": "stream",
     "text": [
      "Balanced expression\n"
     ]
    }
   ],
   "source": [
    "def check_match(opening,closing):\n",
    "    return (opening == '(' and closing == ')') or (opening == '[' and closing == ']') or (opening == '{' and closing == '}')\n",
    "def check_balanced(expression):\n",
    "    stack = Stack()\n",
    "    \n",
    "    for char in exp:\n",
    "        if char == '[' or char == '(' or char == '{':\n",
    "            stack.push(char)\n",
    "        elif char == ']' or char == ')' or char == '}':\n",
    "            if stack.is_empty():\n",
    "                return \"Not balanced : right brackets are more than left brackets\"\n",
    "            popped = stack.pop()\n",
    "            if not check_match(popped, char):\n",
    "                return \"Not balanced : Mismatched brackets\"\n",
    "    \n",
    "    if stack.is_empty():\n",
    "        return \"Balanced expression\"\n",
    "    else:\n",
    "        return \"Not balanced : left brackets are more than right brackets\"\n",
    "\n",
    "exp = input(\"Enter the expression to be evaluated\")\n",
    "result = check_balanced(exp)\n",
    "print(result)\n",
    "    "
   ]
  },
  {
   "cell_type": "markdown",
   "id": "6a0e8643-2f1d-41c6-82e4-6e4ac85f1688",
   "metadata": {},
   "source": [
    "### Queue"
   ]
  },
  {
   "cell_type": "markdown",
   "id": "9bc3266b-a377-4a00-a00a-c3222cc3e20e",
   "metadata": {},
   "source": [
    "####  1. Implement Circular Queue\n",
    "\r\n",
    "Implement a circular queue with operations enqueue, dequeue, and is_empty. The queue should be able to handle overflow and underflow conditions."
   ]
  },
  {
   "cell_type": "code",
   "execution_count": 11,
   "id": "bff8aa84-2485-494d-a21f-53ec4b493eab",
   "metadata": {},
   "outputs": [],
   "source": [
    "class Circular_queue:\n",
    "    def __init__(self,size):\n",
    "        self.size = size\n",
    "        self.cqueue = [None]*size\n",
    "        self.front = self.rear = -1\n",
    "\n",
    "    def is_empty(self):\n",
    "        return self.front == -1\n",
    "\n",
    "    def enqueue(self,element):\n",
    "        if (self.rear + 1 ) % self.size == self.front:\n",
    "            return \"Queue is full\"\n",
    "        elif self.is_empty():\n",
    "            self.front = self.rear = 0\n",
    "            self.cqueue[self.rear] = element\n",
    "        else:\n",
    "            self.rear = (self.rear + 1) % self.size\n",
    "            self.cqueue[self.rear] = element\n",
    "\n",
    "    def dequeue(self):\n",
    "        if self.is_empty():\n",
    "            return \"Queue is empty\"\n",
    "        elif self.front == self.rear:\n",
    "            self.cqueue[self.front] = None\n",
    "            self.front = self.rear = -1\n",
    "        else:\n",
    "            self.cqueue[self.front] = None\n",
    "            self.front = (self.front + 1) % self.size\n",
    "\n",
    "    def display(self):\n",
    "        if self.is_empty():\n",
    "            return \"Queue is empty\"\n",
    "        elif self.rear >= self.front:\n",
    "            for i in range(self.front,self.rear+1):\n",
    "                print(self.cqueue[i], end=\" \")\n",
    "            print()\n",
    "        else:\n",
    "            for i in range(self.front,self.size):\n",
    "                print(self.cqueue[i],end=\" \")\n",
    "            for i in range(0,self.rear+1):\n",
    "                print(self.cqueue[i], end=\" \")\n",
    "            print()\n",
    "\r\n"
   ]
  },
  {
   "cell_type": "code",
   "execution_count": 12,
   "id": "74ffbe94-afea-4c34-bf9d-111783cdf5d9",
   "metadata": {},
   "outputs": [
    {
     "name": "stdout",
     "output_type": "stream",
     "text": [
      "1 2 3 \n",
      "2 3 \n"
     ]
    }
   ],
   "source": [
    "cq = Circular_queue(5)\n",
    "cq.enqueue(1)\n",
    "cq.enqueue(2)\n",
    "cq.enqueue(3)\n",
    "cq.display()  \n",
    "cq.dequeue()\n",
    "cq.display()"
   ]
  },
  {
   "cell_type": "markdown",
   "id": "610c136b-b81a-48a7-9d16-b12d4a1a179d",
   "metadata": {},
   "source": [
    "#### 2. Generate Binary Numbers from 1 to N\n",
    "\r\n",
    "Write a function to generate all binary numbers from 1 to N using a queue."
   ]
  },
  {
   "cell_type": "code",
   "execution_count": 16,
   "id": "08032050-9538-4a29-af30-47eb9c00a928",
   "metadata": {},
   "outputs": [
    {
     "name": "stdin",
     "output_type": "stream",
     "text": [
      "Enter the number 3\n"
     ]
    },
    {
     "name": "stdout",
     "output_type": "stream",
     "text": [
      "['1', '10', '11']\n"
     ]
    }
   ],
   "source": [
    "from collections import deque\n",
    "\n",
    "def generate_binary_numbers(N):\n",
    "    queue = deque()\n",
    "    queue.append(\"1\")\n",
    "    \n",
    "    result = []\n",
    "    \n",
    "    for _ in range(N):\n",
    "        num = queue.popleft()\n",
    "        result.append(num)\n",
    "        queue.append(num + \"0\")\n",
    "        queue.append(num + \"1\")\n",
    "    \n",
    "    return result\n",
    "N = int(input(\"Enter the number\"))\n",
    "print(generate_binary_numbers(N))\n"
   ]
  },
  {
   "cell_type": "markdown",
   "id": "6ef2b15a-d693-45c1-ac32-16d5f758aa02",
   "metadata": {},
   "source": [
    "### Linked list"
   ]
  },
  {
   "cell_type": "markdown",
   "id": "54f86070-ec11-4e3a-a2e2-71f8966b1d1a",
   "metadata": {},
   "source": [
    "#### 1. Reverse a Doubly Linked List\n",
    "\n",
    "Write a function to reverse a doubly linked list."
   ]
  },
  {
   "cell_type": "code",
   "execution_count": 17,
   "id": "79efc0dc-575a-40c2-b057-9c37515be01a",
   "metadata": {},
   "outputs": [
    {
     "name": "stdout",
     "output_type": "stream",
     "text": [
      "Original Linked list\n",
      "1 2 3 4 \n",
      "\n",
      "Reversed Linked list\n",
      "4 3 2 1 \n"
     ]
    }
   ],
   "source": [
    "\n",
    "class Node:\n",
    "    def __init__(self, val):\n",
    "        self.data = val\n",
    "        self.next = None\n",
    "        self.prev = None\n",
    "\n",
    "def reverse(current):\n",
    "  \n",
    "    \n",
    "    if current is None:\n",
    "        return None\n",
    "        \n",
    "    temp = current.prev\n",
    "    current.prev = current.next\n",
    "    current.next = temp\n",
    "\n",
    "    if current.prev is None:\n",
    "        return current\n",
    "\n",
    "    return reverse(current.prev)\n",
    "\n",
    "def print_list(node):\n",
    "    while node is not None:\n",
    "        print(node.data, end=\" \")\n",
    "        node = node.next\n",
    "    print()\n",
    "\n",
    "\n",
    "  \n",
    "head = Node(1)\n",
    "head.next = Node(2)\n",
    "head.next.prev = head\n",
    "head.next.next = Node(3)\n",
    "head.next.next.prev = head.next\n",
    "head.next.next.next = Node(4)\n",
    "head.next.next.next.prev = head.next.next\n",
    "\n",
    "print(\"Original Linked list\")\n",
    "print_list(head)\n",
    "head = reverse(head)\n",
    "print(\"\\nReversed Linked list\")\n",
    "print_list(head)\n"
   ]
  },
  {
   "cell_type": "markdown",
   "id": "1e84859e-35f2-487c-b984-d003bade3101",
   "metadata": {},
   "source": [
    "### Graph"
   ]
  },
  {
   "cell_type": "markdown",
   "id": "6b3f65c0-5a16-41ff-a5ab-8ae50a178ce1",
   "metadata": {},
   "source": [
    "#### 1. Depth-First Search (DFS)\n",
    "\n",
    "Implement Depth-First Search (DFS) for a graph represented using an adjacency list."
   ]
  },
  {
   "cell_type": "code",
   "execution_count": 18,
   "id": "2e983d7d-5af6-4b4b-b9b3-ce7d62de5817",
   "metadata": {},
   "outputs": [
    {
     "name": "stdin",
     "output_type": "stream",
     "text": [
      "Enter the first node A\n"
     ]
    },
    {
     "name": "stdout",
     "output_type": "stream",
     "text": [
      "A\n",
      "B\n",
      "D\n",
      "C\n",
      "E\n"
     ]
    }
   ],
   "source": [
    "def DFS(node,visited,graph):\n",
    "    if node not in graph:\n",
    "        print(node, \" is not present in graph\")\n",
    "        return\n",
    "    if node not in visited:\n",
    "        print(node)\n",
    "        visited.add(node)\n",
    "        for i in graph[node]:\n",
    "            DFS(i,visited,graph)\n",
    "\n",
    "visited = set()\n",
    "graph = {\"A\":[\"B\",\"C\",\"D\"],\n",
    "         \"B\":[\"A\",\"D\",\"E\"],\n",
    "         \"C\":[\"A\",\"D\"],\n",
    "         \"D\":[\"A\",\"B\",\"C\",\"E\"],\n",
    "         \"E\":[\"B\",\"D\"]}\n",
    "node = input(\"Enter the first node\")\n",
    "DFS(node,visited,graph)"
   ]
  },
  {
   "cell_type": "markdown",
   "id": "795205f4-2a40-42bf-80fb-cfc9a0988887",
   "metadata": {},
   "source": [
    "#### 2. Shortest Path Using Breadth-First Search (BFS)\n",
    "\n",
    "Implement Breadth-First Search (BFS) to find the shortest path from a source node to a destination node in an unweighted graph."
   ]
  },
  {
   "cell_type": "code",
   "execution_count": 19,
   "id": "d52108a4-8dac-4105-ba7c-d1827ac10f07",
   "metadata": {},
   "outputs": [
    {
     "name": "stdout",
     "output_type": "stream",
     "text": [
      "['A', 'C', 'F']\n"
     ]
    }
   ],
   "source": [
    "from collections import deque\n",
    "\n",
    "def bfs_shortest_path(graph, start, goal):\n",
    "    visited = set()\n",
    "    queue = deque([[start]])\n",
    "    \n",
    "    if start == goal:\n",
    "        return [start]\n",
    "    \n",
    "    while queue:\n",
    "        path = queue.popleft()\n",
    "        node = path[-1]\n",
    "        \n",
    "        if node not in visited:\n",
    "            for neighbor in graph[node]:\n",
    "                new_path = list(path)\n",
    "                new_path.append(neighbor)\n",
    "                queue.append(new_path)\n",
    "                \n",
    "                if neighbor == goal:\n",
    "                    return new_path\n",
    "            \n",
    "            visited.add(node)\n",
    "    \n",
    "    return None\n",
    "\n",
    "\n",
    "graph = {\n",
    "    'A': ['B', 'C'],\n",
    "    'B': ['D', 'E'],\n",
    "    'C': ['F'],\n",
    "    'D': [],\n",
    "    'E': ['F'],\n",
    "    'F': []\n",
    "}\n",
    "print(bfs_shortest_path(graph, 'A', 'F'))\n"
   ]
  },
  {
   "cell_type": "code",
   "execution_count": 24,
   "id": "2f9a6073-28c0-40c4-a073-aaeb3f349d4c",
   "metadata": {},
   "outputs": [
    {
     "name": "stdout",
     "output_type": "stream",
     "text": [
      "Index out of bounds\n",
      "None None "
     ]
    }
   ],
   "source": [
    "class Stack:\n",
    "    def __init__(self,size):\n",
    "        self.size = size\n",
    "        self.stack = [None]*size\n",
    "        self.top = -1\n",
    "\n",
    "    def push(self,element):\n",
    "        if self.top < self.size-1:\n",
    "            self.top += 1\n",
    "            self.stack[self.top] == element\n",
    "            return element\n",
    "            \n",
    "        else:\n",
    "            print(\"Index out of bounds\")\n",
    "\n",
    "    def display(self):\n",
    "        for i in range(self.size-1):\n",
    "            print(self.stack[i],end = \" \")\n",
    "            \n",
    "s = Stack(3)\n",
    "s.push(4)\n",
    "s.push(8)\n",
    "s.push(8)\n",
    "s.push(7)\n",
    "s.display()"
   ]
  },
  {
   "cell_type": "code",
   "execution_count": null,
   "id": "afed4365-4092-4e0f-a403-eb8f7b89355c",
   "metadata": {},
   "outputs": [],
   "source": []
  },
  {
   "cell_type": "code",
   "execution_count": null,
   "id": "6500a190-4120-4f3e-8c41-b02365cbda4a",
   "metadata": {},
   "outputs": [],
   "source": []
  }
 ],
 "metadata": {
  "kernelspec": {
   "display_name": "Python 3 (ipykernel)",
   "language": "python",
   "name": "python3"
  },
  "language_info": {
   "codemirror_mode": {
    "name": "ipython",
    "version": 3
   },
   "file_extension": ".py",
   "mimetype": "text/x-python",
   "name": "python",
   "nbconvert_exporter": "python",
   "pygments_lexer": "ipython3",
   "version": "3.12.7"
  }
 },
 "nbformat": 4,
 "nbformat_minor": 5
}
