{
 "cells": [
  {
   "cell_type": "markdown",
   "id": "a0d1039f-11e4-41a2-8c8b-63f98c918de0",
   "metadata": {},
   "source": [
    "### Itereative approach"
   ]
  },
  {
   "cell_type": "code",
   "execution_count": 2,
   "id": "99144f9d-5da5-459c-9647-52d60b9f922c",
   "metadata": {},
   "outputs": [
    {
     "name": "stdin",
     "output_type": "stream",
     "text": [
      "Enter the number of elements to be printed 5\n",
      "Enter the element 1\n",
      "Enter the element 4\n",
      "Enter the element 8\n",
      "Enter the element 9\n",
      "Enter the element 10\n",
      "Enter the element to be searched 9\n"
     ]
    },
    {
     "data": {
      "text/plain": [
       "'9 found at index position 3'"
      ]
     },
     "execution_count": 2,
     "metadata": {},
     "output_type": "execute_result"
    }
   ],
   "source": [
    "def listcreation(num_of_elements):\n",
    "    list = []\n",
    "    for i in range(num_of_elements):\n",
    "        element = input(\"Enter the element\")\n",
    "        list.append(element)\n",
    "    return list\n",
    "\n",
    "def binary_search(list,target):\n",
    "    l = 0\n",
    "    u = len(list) - 1\n",
    "\n",
    "    while l <= u:\n",
    "        mid = (l + u)//2\n",
    "\n",
    "        if list[mid] == target:\n",
    "            return f'{target} found at index position {mid}'\n",
    "        elif list[mid] > target:\n",
    "            u = mid-1\n",
    "        else:\n",
    "            l = mid+1\n",
    "    return \"Element not found\"\n",
    "\n",
    "n = int(input(\"Enter the number of elements to be printed\"))\n",
    "list = listcreation(n)\n",
    "target = input(\"Enter the element to be searched\")\n",
    "binary_search(list,target)"
   ]
  },
  {
   "cell_type": "markdown",
   "id": "f5f2b37f-24a8-4143-8027-468f6fb6bc41",
   "metadata": {},
   "source": [
    "### Recursive approach"
   ]
  },
  {
   "cell_type": "code",
   "execution_count": 1,
   "id": "0cb1057f-6b1f-4113-a5e9-13a99c1b0b6f",
   "metadata": {},
   "outputs": [
    {
     "name": "stdin",
     "output_type": "stream",
     "text": [
      "Enter the number of elements to be printed in the list 5\n",
      "Enter the element 1\n",
      "Enter the element 4\n",
      "Enter the element 9\n",
      "Enter the element 8\n",
      "Enter the element 10\n",
      "Enter the element to be searched 9\n"
     ]
    },
    {
     "data": {
      "text/plain": [
       "'9 found at index position 2'"
      ]
     },
     "execution_count": 1,
     "metadata": {},
     "output_type": "execute_result"
    }
   ],
   "source": [
    "def listcreation(num_of_elements):\n",
    "    list = []\n",
    "    for i in range(num_of_elements):\n",
    "        element = input(\"Enter the element\")\n",
    "        list.append(element)\n",
    "    return list\n",
    "\n",
    "def search(list,target,l,u):\n",
    "    if l > u:\n",
    "        return -1\n",
    "    mid = (l+u)//2\n",
    "    if list[mid] == target:\n",
    "        return f'{target} found at index position {mid}'\n",
    "    elif list[mid] > target:\n",
    "        return search(list,target,l,mid-1)\n",
    "    else:\n",
    "        return search(list,target,mid+1,u)\n",
    "\n",
    "n = int(input(\"Enter the number of elements to be printed in the list\"))\n",
    "list = listcreation(n)\n",
    "l = 0\n",
    "u = len(list)-1\n",
    "target = input(\"Enter the element to be searched\")\n",
    "search(list,target,l,u)\n",
    "    "
   ]
  },
  {
   "cell_type": "code",
   "execution_count": null,
   "id": "8b15c5bc-defd-4836-824e-db4f720a3940",
   "metadata": {},
   "outputs": [],
   "source": []
  },
  {
   "cell_type": "code",
   "execution_count": null,
   "id": "a10459a3-7564-4a58-8963-6c19d7597b6d",
   "metadata": {},
   "outputs": [],
   "source": []
  }
 ],
 "metadata": {
  "kernelspec": {
   "display_name": "Python 3 (ipykernel)",
   "language": "python",
   "name": "python3"
  },
  "language_info": {
   "codemirror_mode": {
    "name": "ipython",
    "version": 3
   },
   "file_extension": ".py",
   "mimetype": "text/x-python",
   "name": "python",
   "nbconvert_exporter": "python",
   "pygments_lexer": "ipython3",
   "version": "3.12.7"
  }
 },
 "nbformat": 4,
 "nbformat_minor": 5
}
